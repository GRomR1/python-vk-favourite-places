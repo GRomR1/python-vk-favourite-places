{
  "cells": [
    {
      "cell_type": "code",
      "execution_count": 1,
      "metadata": {
        "pycharm": {}
      },
      "outputs": [],
      "source": [
        "import pandas as pd\n",
        "import gmaps\n",
        "import time\n",
        "import gmaps.datasets\n",
        "import requests\n",
        "from random import randint\n",
        "from datetime import datetime\n",
        "from time import sleep\n",
        "from csv import DictWriter, DictReader"
      ]
    },
    {
      "cell_type": "code",
      "execution_count": 2,
      "metadata": {
        "pycharm": {}
      },
      "outputs": [],
      "source": "GOOGLE_API_KEY\u003d\u0027AI....\u0027  # Fill in with your API key !"
    },
    {
      "cell_type": "code",
      "execution_count": 3,
      "metadata": {
        "pycharm": {}
      },
      "outputs": [],
      "source": "VK_VERSION \u003d \u00275.92\u0027\nVK_ACCESS_TOKEN \u003d \u0027d059....\u0027   # Fill in with your API key !"
    },
    {
      "cell_type": "code",
      "execution_count": 4,
      "metadata": {
        "pycharm": {}
      },
      "outputs": [],
      "source": "# geo \u003d (45.190445, 33.366861) # evpatoria\nevpteatr \u003d (45.190810, 33.367055) # teatr square Evpatoria\nsimfsovets \u003d (44.952125, 34.102454) # soviet square Simferopol\nsevasvokzal \u003d (44.595024, 33.528891) # railway station Sevastopol\nsevaskamish \u003d (44.568270, 33.440542) # kamishovaya bay Sevastopol \nyalta \u003d (44.498231, 34.169317) # administration Yalta\ndist \u003d 3000\nmaxTS \u003d 1546300800 # 00:00 1.01.2019\nminTS \u003d 1514764800 # 00:00 1.01.2018"
    },
    {
      "cell_type": "code",
      "execution_count": 6,
      "metadata": {
        "pycharm": {}
      },
      "outputs": [],
      "source": "def getVK(geo, minTimestamp, maxTimestamp, offset):\n    params \u003d {\n        \u0027lat\u0027: geo[0],\n        \u0027long\u0027: geo[1],\n        \u0027count\u0027: \u00271000\u0027,\n        \u0027offset\u0027: offset,\n        \u0027radius\u0027: dist,\n        \u0027start_time\u0027: minTimestamp,\n        \u0027end_time\u0027: maxTimestamp,\n        \u0027access_token\u0027: VK_ACCESS_TOKEN,\n        \u0027v\u0027: VK_VERSION,\n        \u0027sort\u0027: 0 # by date of creation\n    }\n    return getResponse(\"https://api.vk.com/method/photos.search\",\n                       params\u003dparams, verify\u003dTrue).json()"
    },
    {
      "cell_type": "code",
      "execution_count": 7,
      "metadata": {
        "pycharm": {}
      },
      "outputs": [],
      "source": [
        "# resp \u003d getVK(geo[0], geo[1], dist, minTS, maxTS, 0) # \u0027count\u0027: 411874, max_count \u003d 1000"
      ]
    },
    {
      "cell_type": "code",
      "execution_count": 8,
      "metadata": {
        "pycharm": {}
      },
      "outputs": [],
      "source": "def save_to_csv(data, path):\n    with open(path, \u0027w\u0027, newline\u003d\u0027\u0027, encoding\u003d\u0027utf-8\u0027) as csvfile:\n        columns \u003d list(data[0].keys())\n        columns.sort()\n        writer \u003d DictWriter(csvfile, fieldnames\u003dcolumns, delimiter\u003d\u0027;\u0027)\n        writer.writeheader()\n        writer.writerows(data)"
    },
    {
      "cell_type": "code",
      "execution_count": 9,
      "metadata": {
        "pycharm": {}
      },
      "outputs": [],
      "source": "def save_map_to_csv(map_data, path):\n    with open(path, \u0027w\u0027, newline\u003d\u0027\u0027, encoding\u003d\u0027utf-8\u0027) as csvfile:\n        columns \u003d [\u0027id\u0027, \u0027date\u0027, \u0027lat\u0027, \u0027long\u0027]\n        writer \u003d DictWriter(csvfile, fieldnames\u003dcolumns, delimiter\u003d\u0027;\u0027)\n        writer.writeheader()\n        for key in map_data:\n            data \u003d {\n                \u0027id\u0027: key[0],\n                \u0027date\u0027: time.strftime(\"%d.%m.%Y\", time.localtime(key[1])),\n                \u0027lat\u0027: map_data[key][0],\n                \u0027long\u0027: map_data[key][1],\n            }\n            writer.writerow(data)"
    },
    {
      "cell_type": "code",
      "execution_count": 10,
      "metadata": {
        "pycharm": {}
      },
      "outputs": [],
      "source": [
        "# resp \u003d getVK(geo[0], geo[1], dist, minTS, maxTS, 826)"
      ]
    },
    {
      "cell_type": "code",
      "execution_count": 11,
      "metadata": {
        "pycharm": {}
      },
      "outputs": [],
      "source": [
        "# len(resp[\u0027response\u0027][\u0027items\u0027])"
      ]
    },
    {
      "cell_type": "code",
      "execution_count": 12,
      "metadata": {
        "pycharm": {}
      },
      "outputs": [],
      "source": [
        "def open_csv_to_map(map_data, path):\n",
        "    with open(path, newline\u003d\u0027\u0027, encoding\u003d\u0027utf-8\u0027) as csvfile:\n",
        "        reader \u003d DictReader(csvfile, delimiter\u003d\u0027;\u0027)\n",
        "#         print(reader)\n",
        "        for row in reader:\n",
        "            map_data[(int(row[\u0027id\u0027]), \n",
        "                      int(time.mktime(time.strptime(row[\u0027date\u0027], \u0027%d.%m.%Y\u0027))))] \u003d \n",
        "                (float(row[\u0027lat\u0027]), float(row[\u0027long\u0027]))"
      ]
    },
    {
      "cell_type": "code",
      "execution_count": 13,
      "metadata": {
        "pycharm": {}
      },
      "outputs": [],
      "source": "# parsing the server response into map_data[]\ndef save_to_map(resp):\n    try:\n        items \u003d resp[\u0027response\u0027][\u0027items\u0027]\n    except KeyError:\n        return\n    for f in items:\n        try:\n            map_data[(f[\u0027id\u0027], f[\u0027date\u0027])] \u003d (f[\u0027lat\u0027], f[\u0027long\u0027])\n        except KeyError:\n            continue"
    },
    {
      "cell_type": "code",
      "execution_count": 14,
      "metadata": {
        "pycharm": {}
      },
      "outputs": [],
      "source": [
        "def save_to_list(resp, data, geotags):\n",
        "    for f in resp[\u0027response\u0027][\u0027items\u0027]:\n",
        "        data.append({\n",
        "            \u0027lat\u0027: f[\u0027lat\u0027], \n",
        "            \u0027long\u0027: f[\u0027long\u0027], \n",
        "            \u0027date\u0027: f[\u0027date\u0027], \n",
        "            \u0027id\u0027: f[\u0027id\u0027]\n",
        "        })\n",
        "        geotags.append((f[\u0027lat\u0027], f[\u0027long\u0027]))"
      ]
    },
    {
      "cell_type": "code",
      "execution_count": 15,
      "metadata": {
        "pycharm": {}
      },
      "outputs": [
        {
          "name": "stdout",
          "output_type": "stream",
          "text": [
            "01.01.2018: count 1136 ret 627\n",
            "02.01.2018: count 1271 ret 801\n",
            "03.01.2018: count 1541 ret 485\n",
            "04.01.2018: count 1149 ret 678\n",
            "05.01.2018: count 1253 ret 816\n",
            "06.01.2018: count 1127 ret 566\n",
            "07.01.2018: count 1701 ret 738\n",
            "08.01.2018: count 1144 ret 834\n",
            "09.01.2018: count 1080 ret 614\n",
            "10.01.2018: count 957 ret 627\n",
            "11.01.2018: count 610 ret 610\n",
            "12.01.2018: count 713 ret 713\n",
            "13.01.2018: count 461 ret 461\n",
            "14.01.2018: count 782 ret 600\n",
            "15.01.2018: count 533 ret 500\n",
            "16.01.2018: count 681 ret 677\n",
            "17.01.2018: count 846 ret 392\n",
            "18.01.2018: count 530 ret 530\n",
            "19.01.2018: count 464 ret 464\n",
            "20.01.2018: count 536 ret 536\n",
            "21.01.2018: count 634 ret 634\n",
            "22.01.2018: count 456 ret 456\n",
            "23.01.2018: count 521 ret 521\n",
            "24.01.2018: count 375 ret 375\n",
            "25.01.2018: count 453 ret 453\n",
            "26.01.2018: count 640 ret 640\n",
            "27.01.2018: count 624 ret 624\n",
            "28.01.2018: count 1192 ret 771\n",
            "29.01.2018: count 594 ret 594\n",
            "30.01.2018: count 626 ret 626\n",
            "31.01.2018: count 634 ret 634\n",
            "01.02.2018: count 682 ret 497\n",
            "02.02.2018: count 643 ret 443\n",
            "03.02.2018: count 850 ret 648\n",
            "04.02.2018: count 881 ret 732\n",
            "05.02.2018: count 1450 ret 939\n",
            "06.02.2018: count 893 ret 893\n",
            "07.02.2018: count 443 ret 443\n",
            "08.02.2018: count 804 ret 737\n",
            "09.02.2018: count 729 ret 729\n",
            "10.02.2018: count 672 ret 606\n",
            "11.02.2018: count 691 ret 691\n",
            "12.02.2018: count 1336 ret 759\n",
            "13.02.2018: count 743 ret 720\n",
            "14.02.2018: count 483 ret 483\n",
            "15.02.2018: count 729 ret 729\n",
            "16.02.2018: count 557 ret 533\n",
            "17.02.2018: count 714 ret 642\n",
            "18.02.2018: count 790 ret 708\n",
            "19.02.2018: count 520 ret 520\n",
            "20.02.2018: count 649 ret 649\n",
            "21.02.2018: count 629 ret 629\n",
            "22.02.2018: count 717 ret 717\n",
            "23.02.2018: count 899 ret 823\n",
            "24.02.2018: count 663 ret 663\n",
            "25.02.2018: count 736 ret 736\n",
            "26.02.2018: count 693 ret 693\n",
            "27.02.2018: count 499 ret 499\n",
            "28.02.2018: count 561 ret 561\n",
            "01.03.2018: count 724 ret 724\n",
            "02.03.2018: count 398 ret 398\n",
            "03.03.2018: count 876 ret 788\n",
            "04.03.2018: count 1143 ret 837\n",
            "05.03.2018: count 523 ret 523\n",
            "06.03.2018: count 522 ret 522\n",
            "07.03.2018: count 435 ret 435\n",
            "08.03.2018: count 883 ret 687\n",
            "09.03.2018: count 864 ret 737\n",
            "10.03.2018: count 975 ret 597\n",
            "11.03.2018: count 880 ret 617\n",
            "12.03.2018: count 1133 ret 567\n",
            "13.03.2018: count 853 ret 793\n",
            "14.03.2018: count 535 ret 535\n",
            "15.03.2018: count 611 ret 611\n",
            "16.03.2018: count 594 ret 594\n",
            "17.03.2018: count 1265 ret 728\n",
            "18.03.2018: count 1322 ret 709\n",
            "19.03.2018: count 881 ret 386\n",
            "20.03.2018: count 876 ret 876\n",
            "21.03.2018: count 583 ret 583\n",
            "22.03.2018: count 673 ret 673\n",
            "23.03.2018: count 621 ret 621\n",
            "24.03.2018: count 1296 ret 918\n",
            "25.03.2018: count 1854 ret 858\n",
            "26.03.2018: count 1154 ret 770\n",
            "27.03.2018: count 625 ret 613\n",
            "28.03.2018: count 599 ret 406\n",
            "29.03.2018: count 658 ret 658\n",
            "30.03.2018: count 522 ret 522\n",
            "31.03.2018: count 944 ret 556\n",
            "01.04.2018: count 1502 ret 811\n",
            "02.04.2018: count 1070 ret 821\n",
            "03.04.2018: count 699 ret 699\n",
            "04.04.2018: count 671 ret 671\n",
            "05.04.2018: count 580 ret 580\n",
            "06.04.2018: count 831 ret 674\n",
            "07.04.2018: count 776 ret 776\n",
            "08.04.2018: count 1563 ret 761\n",
            "09.04.2018: count 2048 ret 765\n",
            "10.04.2018: count 969 ret 787\n",
            "11.04.2018: count 1323 ret 864\n",
            "12.04.2018: count 731 ret 731\n",
            "13.04.2018: count 980 ret 709\n",
            "14.04.2018: count 1167 ret 691\n",
            "15.04.2018: count 2168 ret 721\n",
            "16.04.2018: count 1449 ret 687\n",
            "17.04.2018: count 1029 ret 798\n",
            "18.04.2018: count 1208 ret 555\n",
            "19.04.2018: count 889 ret 726\n",
            "20.04.2018: count 1024 ret 733\n",
            "21.04.2018: count 1257 ret 641\n",
            "22.04.2018: count 1881 ret 834\n",
            "23.04.2018: count 1279 ret 647\n",
            "24.04.2018: count 932 ret 634\n",
            "25.04.2018: count 829 ret 674\n",
            "26.04.2018: count 932 ret 663\n",
            "27.04.2018: count 693 ret 381\n",
            "28.04.2018: count 1072 ret 549\n",
            "29.04.2018: count 1671 ret 782\n",
            "30.04.2018: count 2209 ret 730\n",
            "01.05.2018: count 1477 ret 585\n",
            "02.05.2018: count 1846 ret 675\n",
            "03.05.2018: count 913 ret 546\n",
            "04.05.2018: count 1105 ret 789\n",
            "05.05.2018: count 1347 ret 582\n",
            "06.05.2018: count 1842 ret 704\n",
            "07.05.2018: count 1220 ret 670\n",
            "08.05.2018: count 899 ret 749\n",
            "09.05.2018: count 1233 ret 812\n",
            "10.05.2018: count 1253 ret 730\n",
            "11.05.2018: count 681 ret 544\n",
            "12.05.2018: count 1242 ret 546\n",
            "13.05.2018: count 1662 ret 729\n",
            "14.05.2018: count 1525 ret 502\n",
            "15.05.2018: count 1054 ret 491\n",
            "16.05.2018: count 1086 ret 748\n",
            "17.05.2018: count 935 ret 536\n",
            "18.05.2018: count 1210 ret 587\n",
            "19.05.2018: count 1021 ret 753\n",
            "20.05.2018: count 1976 ret 634\n",
            "21.05.2018: count 1041 ret 761\n",
            "22.05.2018: count 1086 ret 673\n",
            "23.05.2018: count 1089 ret 822\n",
            "24.05.2018: count 1502 ret 697\n",
            "25.05.2018: count 996 ret 687\n",
            "26.05.2018: count 820 ret 812\n",
            "27.05.2018: count 1177 ret 769\n",
            "28.05.2018: count 1261 ret 805\n",
            "29.05.2018: count 1363 ret 812\n",
            "30.05.2018: count 1241 ret 846\n",
            "31.05.2018: count 964 ret 795\n",
            "01.06.2018: count 1137 ret 348\n",
            "02.06.2018: count 1262 ret 671\n",
            "03.06.2018: count 1632 ret 627\n",
            "04.06.2018: count 1503 ret 800\n",
            "05.06.2018: count 2254 ret 751\n",
            "06.06.2018: count 1431 ret 596\n",
            "07.06.2018: count 1260 ret 743\n",
            "08.06.2018: count 1279 ret 692\n",
            "09.06.2018: count 1622 ret 861\n",
            "10.06.2018: count 1806 ret 736\n",
            "11.06.2018: count 1927 ret 803\n",
            "12.06.2018: count 1739 ret 646\n",
            "13.06.2018: count 1689 ret 670\n",
            "14.06.2018: count 1324 ret 739\n",
            "15.06.2018: count 1766 ret 658\n",
            "16.06.2018: count 1895 ret 828\n",
            "17.06.2018: count 2252 ret 728\n",
            "18.06.2018: count 2038 ret 624\n",
            "19.06.2018: count 1741 ret 733\n",
            "20.06.2018: count 2091 ret 893\n",
            "21.06.2018: count 1763 ret 654\n",
            "22.06.2018: count 2308 ret 641\n",
            "23.06.2018: count 2198 ret 827\n",
            "24.06.2018: count 2180 ret 783\n",
            "25.06.2018: count 2212 ret 832\n",
            "26.06.2018: count 1942 ret 705\n",
            "27.06.2018: count 2010 ret 847\n",
            "28.06.2018: count 1799 ret 677\n",
            "29.06.2018: count 1800 ret 718\n",
            "30.06.2018: count 1836 ret 698\n",
            "01.07.2018: count 1902 ret 590\n",
            "02.07.2018: count 1907 ret 705\n",
            "03.07.2018: count 2011 ret 734\n",
            "04.07.2018: count 2428 ret 345\n",
            "05.07.2018: count 2109 ret 740\n",
            "06.07.2018: count 2071 ret 660\n",
            "07.07.2018: count 1604 ret 785\n",
            "08.07.2018: count 2439 ret 658\n",
            "09.07.2018: count 2762 ret 533\n",
            "10.07.2018: count 2279 ret 633\n",
            "11.07.2018: count 2016 ret 499\n",
            "12.07.2018: count 2149 ret 723\n",
            "13.07.2018: count 3101 ret 733\n",
            "14.07.2018: count 1940 ret 720\n",
            "15.07.2018: count 2074 ret 626\n",
            "16.07.2018: count 3043 ret 626\n",
            "17.07.2018: count 3161 ret 279\n",
            "18.07.2018: count 2920 ret 594\n",
            "19.07.2018: count 3378 ret 802\n",
            "20.07.2018: count 2257 ret 743\n",
            "21.07.2018: count 2812 ret 734\n",
            "22.07.2018: count 3827 ret 517\n",
            "23.07.2018: count 3076 ret 633\n",
            "24.07.2018: count 3033 ret 800\n",
            "25.07.2018: count 3135 ret 659\n",
            "26.07.2018: count 2180 ret 570\n",
            "27.07.2018: count 3841 ret 553\n",
            "28.07.2018: count 2798 ret 655\n",
            "29.07.2018: count 3627 ret 532\n",
            "30.07.2018: count 2950 ret 504\n",
            "31.07.2018: count 3192 ret 559\n",
            "01.08.2018: count 2908 ret 791\n",
            "02.08.2018: count 2724 ret 498\n",
            "03.08.2018: count 2359 ret 672\n",
            "04.08.2018: count 2270 ret 642\n",
            "05.08.2018: count 2765 ret 606\n",
            "06.08.2018: count 3898 ret 774\n",
            "07.08.2018: count 2881 ret 642\n",
            "08.08.2018: count 2889 ret 696\n",
            "09.08.2018: count 2827 ret 726\n",
            "10.08.2018: count 2756 ret 586\n",
            "11.08.2018: count 3303 ret 559\n",
            "12.08.2018: count 4280 ret 555\n",
            "13.08.2018: count 3752 ret 798\n",
            "14.08.2018: count 3082 ret 700\n",
            "15.08.2018: count 3270 ret 583\n",
            "16.08.2018: count 3219 ret 739\n",
            "17.08.2018: count 2974 ret 524\n",
            "18.08.2018: count 2708 ret 677\n",
            "19.08.2018: count 2744 ret 517\n",
            "20.08.2018: count 2849 ret 677\n",
            "21.08.2018: count 3715 ret 680\n",
            "22.08.2018: count 3463 ret 755\n",
            "23.08.2018: count 2621 ret 666\n",
            "24.08.2018: count 3309 ret 676\n",
            "25.08.2018: count 2596 ret 662\n",
            "26.08.2018: count 2271 ret 687\n",
            "27.08.2018: count 3203 ret 519\n",
            "28.08.2018: count 2597 ret 739\n",
            "29.08.2018: count 2722 ret 596\n",
            "30.08.2018: count 2633 ret 640\n",
            "31.08.2018: count 2362 ret 655\n",
            "01.09.2018: count 2262 ret 506\n",
            "02.09.2018: count 3595 ret 617\n",
            "03.09.2018: count 2210 ret 849\n",
            "04.09.2018: count 1964 ret 793\n",
            "05.09.2018: count 1767 ret 573\n",
            "06.09.2018: count 1674 ret 683\n",
            "07.09.2018: count 1867 ret 726\n",
            "08.09.2018: count 2582 ret 833\n",
            "09.09.2018: count 1871 ret 807\n",
            "10.09.2018: count 1702 ret 758\n",
            "11.09.2018: count 1608 ret 696\n",
            "12.09.2018: count 1488 ret 711\n",
            "13.09.2018: count 1439 ret 786\n",
            "14.09.2018: count 2270 ret 361\n",
            "15.09.2018: count 1407 ret 846\n",
            "16.09.2018: count 1924 ret 711\n",
            "17.09.2018: count 1877 ret 711\n",
            "18.09.2018: count 1415 ret 841\n",
            "19.09.2018: count 1184 ret 729\n",
            "20.09.2018: count 1719 ret 825\n",
            "21.09.2018: count 1217 ret 817\n",
            "22.09.2018: count 1592 ret 594\n",
            "23.09.2018: count 1336 ret 844\n",
            "24.09.2018: count 1725 ret 784\n",
            "25.09.2018: count 1347 ret 746\n",
            "26.09.2018: count 1320 ret 715\n",
            "27.09.2018: count 1159 ret 750\n",
            "28.09.2018: count 1140 ret 727\n",
            "29.09.2018: count 1338 ret 712\n",
            "30.09.2018: count 1155 ret 744\n",
            "01.10.2018: count 1126 ret 733\n",
            "02.10.2018: count 963 ret 589\n",
            "03.10.2018: count 927 ret 616\n",
            "04.10.2018: count 1033 ret 569\n",
            "05.10.2018: count 994 ret 707\n",
            "06.10.2018: count 1197 ret 822\n",
            "07.10.2018: count 1292 ret 783\n",
            "08.10.2018: count 1311 ret 790\n",
            "09.10.2018: count 1126 ret 812\n",
            "10.10.2018: count 1389 ret 736\n",
            "11.10.2018: count 892 ret 632\n",
            "12.10.2018: count 1180 ret 837\n",
            "13.10.2018: count 1136 ret 749\n",
            "14.10.2018: count 1545 ret 763\n",
            "15.10.2018: count 1242 ret 842\n",
            "16.10.2018: count 1165 ret 772\n",
            "17.10.2018: count 860 ret 804\n",
            "18.10.2018: count 981 ret 882\n",
            "19.10.2018: count 1167 ret 803\n",
            "20.10.2018: count 979 ret 724\n",
            "21.10.2018: count 1415 ret 752\n",
            "22.10.2018: count 1553 ret 675\n",
            "23.10.2018: count 1025 ret 690\n",
            "24.10.2018: count 1173 ret 699\n",
            "25.10.2018: count 1490 ret 809\n",
            "26.10.2018: count 863 ret 842\n",
            "27.10.2018: count 1510 ret 792\n",
            "28.10.2018: count 1776 ret 685\n",
            "29.10.2018: count 1573 ret 764\n",
            "30.10.2018: count 1151 ret 779\n",
            "31.10.2018: count 1718 ret 829\n",
            "01.11.2018: count 1068 ret 761\n",
            "02.11.2018: count 1350 ret 509\n",
            "03.11.2018: count 1618 ret 805\n",
            "04.11.2018: count 2786 ret 800\n",
            "05.11.2018: count 1785 ret 771\n",
            "06.11.2018: count 1287 ret 477\n",
            "07.11.2018: count 1463 ret 603\n",
            "08.11.2018: count 817 ret 817\n",
            "09.11.2018: count 1409 ret 477\n",
            "10.11.2018: count 1375 ret 796\n",
            "11.11.2018: count 1778 ret 793\n",
            "12.11.2018: count 1202 ret 792\n",
            "13.11.2018: count 866 ret 823\n",
            "14.11.2018: count 1263 ret 802\n",
            "15.11.2018: count 1262 ret 847\n",
            "16.11.2018: count 800 ret 800\n",
            "17.11.2018: count 963 ret 835\n",
            "18.11.2018: count 1098 ret 671\n",
            "19.11.2018: count 643 ret 643\n",
            "20.11.2018: count 859 ret 797\n",
            "21.11.2018: count 867 ret 695\n",
            "22.11.2018: count 1103 ret 823\n",
            "23.11.2018: count 994 ret 885\n",
            "24.11.2018: count 973 ret 864\n",
            "25.11.2018: count 1114 ret 775\n",
            "26.11.2018: count 906 ret 668\n",
            "27.11.2018: count 808 ret 808\n",
            "28.11.2018: count 811 ret 687\n",
            "29.11.2018: count 672 ret 671\n",
            "30.11.2018: count 650 ret 545\n",
            "01.12.2018: count 881 ret 790\n",
            "02.12.2018: count 1424 ret 830\n",
            "03.12.2018: count 760 ret 671\n",
            "04.12.2018: count 784 ret 698\n",
            "05.12.2018: count 540 ret 540\n",
            "06.12.2018: count 510 ret 510\n",
            "07.12.2018: count 534 ret 534\n",
            "08.12.2018: count 1514 ret 759\n",
            "09.12.2018: count 1120 ret 885\n",
            "10.12.2018: count 1055 ret 943\n",
            "11.12.2018: count 560 ret 560\n",
            "12.12.2018: count 622 ret 622\n",
            "13.12.2018: count 593 ret 593\n",
            "14.12.2018: count 874 ret 715\n",
            "15.12.2018: count 754 ret 754\n",
            "16.12.2018: count 1026 ret 834\n",
            "17.12.2018: count 875 ret 733\n",
            "18.12.2018: count 606 ret 606\n",
            "19.12.2018: count 957 ret 740\n",
            "20.12.2018: count 654 ret 654\n",
            "21.12.2018: count 795 ret 757\n",
            "22.12.2018: count 792 ret 644\n",
            "23.12.2018: count 952 ret 871\n",
            "24.12.2018: count 678 ret 639\n",
            "25.12.2018: count 595 ret 595\n",
            "26.12.2018: count 1195 ret 906\n",
            "27.12.2018: count 628 ret 628\n",
            "28.12.2018: count 616 ret 616\n",
            "29.12.2018: count 806 ret 806\n",
            "30.12.2018: count 814 ret 738\n",
            "31.12.2018: count 1400 ret 767\n"
          ]
        }
      ],
      "source": "map_data \u003d {}\nstep \u003d 24*60*60 # step - 1 day\ni \u003d minTS\ngeo \u003d yalta\nwhile i \u003c maxTS:\n    resp \u003d getVK(geo, i, i+step, 0)\n#     save_to_list(resp, data, evpphotos)\n    save_to_map(resp)\n    count \u003d resp[\u0027response\u0027][\u0027count\u0027]\n    returned \u003d len(resp[\u0027response\u0027][\u0027items\u0027])\n    print (\u0027{}: count {} ret {}\u0027.format(time.strftime(\"%d.%m.%Y\", time.localtime(i)), count, returned))\n    if count \u003e returned:\n        offset \u003d returned\n        while offset \u003c count and offset \u003c 3000:\n            resp \u003d getVK(geo, i, i+step, offset)\n#             save_to_list(resp, data, evpphotos)\n            save_to_map(resp)\n            count \u003d resp[\u0027response\u0027][\u0027count\u0027]\n            returned \u003d len(resp[\u0027response\u0027][\u0027items\u0027])\n#             print (\u0027{}: count {} ret {} off {}\u0027.format(time.strftime(\"%d.%m.%Y\", time.localtime(i)), count, returned, offset))\n            offset \u003d offset + returned\n            if returned \u003d\u003d 0:\n                break\n    i \u003d i + step\n    sleep(0.5)      "
    },
    {
      "cell_type": "code",
      "execution_count": 16,
      "metadata": {
        "pycharm": {}
      },
      "outputs": [],
      "source": [
        "save_map_to_csv(map_data, \u0027yalta2018.csv\u0027)"
      ]
    },
    {
      "cell_type": "code",
      "execution_count": 21,
      "metadata": {
        "pycharm": {}
      },
      "outputs": [
        {
          "name": "stdout",
          "output_type": "stream",
          "text": [
            "Count of photos 422546\n"
          ]
        },
        {
          "data": {
            "application/vnd.jupyter.widget-view+json": {
              "model_id": "f7354ff7ea354d6794245a0ba60f732a",
              "version_major": 2,
              "version_minor": 0
            },
            "text/plain": [
              "Figure(layout\u003dFigureLayout(height\u003d\u0027420px\u0027))"
            ]
          },
          "metadata": {},
          "output_type": "display_data"
        }
      ],
      "source": [
        "print(\u0027Count of photos {}\u0027.format(len(map_data)))\n",
        "gmaps.configure(api_key\u003dGOOGLE_API_KEY)\n",
        "fig \u003d gmaps.figure(center\u003dgeo, zoom_level\u003d13)\n",
        "heatmap_layer \u003d gmaps.heatmap_layer(list(map_data.values()))\n",
        "fig.add_layer(heatmap_layer)\n",
        "fig"
      ]
    },
    {
      "cell_type": "code",
      "execution_count": 49,
      "metadata": {
        "pycharm": {}
      },
      "outputs": [],
      "source": "#  read from file\nmap_data \u003d {}\nopen_csv_to_map(map_data, \u0027sevas2018.csv\u0027)"
    },
    {
      "cell_type": "code",
      "execution_count": null,
      "metadata": {
        "pycharm": {}
      },
      "outputs": [],
      "source": "# simple check first 5 row\nk \u003d 0 \nfor i in map_data:\n    print(i, map_data[i])\n    if k \u003e 5: break\n    k \u003d k+1"
    },
    {
      "cell_type": "code",
      "execution_count": 11,
      "metadata": {
        "pycharm": {}
      },
      "outputs": [
        {
          "data": {
            "application/vnd.jupyter.widget-view+json": {
              "model_id": "b1374adf80104c72a438c099329340aa",
              "version_major": 2,
              "version_minor": 0
            },
            "text/plain": [
              "Figure(layout\u003dFigureLayout(height\u003d\u0027420px\u0027))"
            ]
          },
          "metadata": {},
          "output_type": "display_data"
        }
      ],
      "source": "gmaps.configure(api_key\u003dGOOGLE_API_KEY)\nfig \u003d gmaps.figure(center\u003dgeo, zoom_level\u003d13)\nlocations \u003d [geo]\nheatmap_layer \u003d gmaps.heatmap_layer(locations)\nfig.add_layer(heatmap_layer)\nfig"
    }
  ],
  "metadata": {
    "kernelspec": {
      "display_name": "Python 3",
      "language": "python",
      "name": "python3"
    },
    "language_info": {
      "codemirror_mode": {
        "name": "ipython",
        "version": 3
      },
      "file_extension": ".py",
      "mimetype": "text/x-python",
      "name": "python",
      "nbconvert_exporter": "python",
      "pygments_lexer": "ipython3",
      "version": "3.7.2"
    }
  },
  "nbformat": 4,
  "nbformat_minor": 2
}